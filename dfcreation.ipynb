{
 "cells": [
  {
   "cell_type": "code",
   "execution_count": 1,
   "metadata": {},
   "outputs": [],
   "source": [
    "with open('smartprix.html','r',encoding='utf-8') as f:\n",
    "    html = f.read()"
   ]
  },
  {
   "cell_type": "code",
   "execution_count": 2,
   "metadata": {},
   "outputs": [],
   "source": [
    "from bs4 import BeautifulSoup\n",
    "import numpy as np\n",
    "import pandas as pd"
   ]
  },
  {
   "cell_type": "code",
   "execution_count": 3,
   "metadata": {},
   "outputs": [],
   "source": [
    "soup = BeautifulSoup(html,'lxml')"
   ]
  },
  {
   "cell_type": "code",
   "execution_count": 4,
   "metadata": {},
   "outputs": [],
   "source": [
    "containers = soup.find_all('div',{'class':'sm-product has-tag has-features has-actions'})"
   ]
  },
  {
   "cell_type": "code",
   "execution_count": 5,
   "metadata": {},
   "outputs": [],
   "source": [
    "names = []\n",
    "prices = []\n",
    "ratings = []\n",
    "sim = []\n",
    "processor = []\n",
    "ram = []\n",
    "battery = []\n",
    "display = []\n",
    "camera = []\n",
    "card = []\n",
    "os = []\n",
    "\n",
    "for i in soup.find_all('div',{'class':'sm-product has-tag has-features has-actions'}):\n",
    "    try:\n",
    "        names.append(i.find('h2').text)\n",
    "    except:\n",
    "        names.append(np.nan)\n",
    "    try:\n",
    "        prices.append(i.find('span',{'class':'price'}).text)\n",
    "    except:\n",
    "        price.append(np.nan)\n",
    "    try:\n",
    "        ratings.append(i.find('div',{'class':'score rank-2-bg'}).find('b').text)\n",
    "    except:\n",
    "        ratings.append(np.nan)\n",
    "        \n",
    "    x = i.find('ul',{'class':'sm-feat specs'}).find_all('li')\n",
    "    try:\n",
    "        sim.append(x[0].text)\n",
    "    except:\n",
    "        sim.append(np.nan)\n",
    "    try:\n",
    "        processor.append(x[1].text)\n",
    "    except:\n",
    "        processor.append(np.nan)\n",
    "    try:    \n",
    "        ram.append(x[2].text)\n",
    "    except:\n",
    "        ram.append(np.nan)\n",
    "    try:\n",
    "        battery.append(x[3].text)\n",
    "    except:\n",
    "        battery.append(np.nan)\n",
    "    try:\n",
    "        display.append(x[4].text)\n",
    "    except:\n",
    "        display.append(np.nan)\n",
    "    try:\n",
    "        camera.append(x[5].text)\n",
    "    except:\n",
    "        camera.append(np.nan)\n",
    "    try:\n",
    "        card.append(x[6].text)\n",
    "    except:\n",
    "        card.append(np.nan)\n",
    "    try:\n",
    "        os.append(x[7].text)\n",
    "    except:\n",
    "        os.append(np.nan)"
   ]
  },
  {
   "cell_type": "code",
   "execution_count": 6,
   "metadata": {},
   "outputs": [],
   "source": [
    "df = pd.DataFrame({\n",
    "    'model':names,\n",
    "    'price':prices,\n",
    "    'rating':ratings,\n",
    "    'sim':sim,\n",
    "    'processor':processor,\n",
    "    'ram':ram,\n",
    "    'battery':battery,\n",
    "    'display':display,\n",
    "    'camera':camera,\n",
    "    'card':card,\n",
    "    'os':os\n",
    "})"
   ]
  }
 ],
 "metadata": {
  "kernelspec": {
   "display_name": "Python 3",
   "language": "python",
   "name": "python3"
  },
  "language_info": {
   "codemirror_mode": {
    "name": "ipython",
    "version": 3
   },
   "file_extension": ".py",
   "mimetype": "text/x-python",
   "name": "python",
   "nbconvert_exporter": "python",
   "pygments_lexer": "ipython3",
   "version": "3.8.3"
  }
 },
 "nbformat": 4,
 "nbformat_minor": 4
}
